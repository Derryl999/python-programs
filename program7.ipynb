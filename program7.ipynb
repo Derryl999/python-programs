{
 "cells": [
  {
   "cell_type": "code",
   "execution_count": 1,
   "metadata": {},
   "outputs": [],
   "source": [
    "from pgmpy.estimators import MaximumLikelihoodEstimator"
   ]
  },
  {
   "cell_type": "code",
   "execution_count": 31,
   "metadata": {},
   "outputs": [],
   "source": [
    "import pandas as pd\n",
    "import numpy as np\n",
    "import csv\n",
    "from pgmpy.estimators import MaximumLikelihoodEstimator\n",
    "from pgmpy.models import BayesianModel\n",
    "from pgmpy.inference import VariableElimination"
   ]
  },
  {
   "cell_type": "code",
   "execution_count": 33,
   "metadata": {},
   "outputs": [
    {
     "name": "stdout",
     "output_type": "stream",
     "text": [
      "   age  sex  cp  trestbps  chol  fbs  restecg  thalach  exang  oldpeak  slope  \\\n",
      "0   63    1   1       145   233    1        2      150      0      2.3      3   \n",
      "1   67    1   4       160   286    0        2      108      1      1.5      2   \n",
      "2   67    1   4       120   229    0        2      129      1      2.6      2   \n",
      "3   37    1   3       130   250    0        0      187      0      3.5      3   \n",
      "4   41    0   2       130   204    0        2      172      0      1.4      1   \n",
      "\n",
      "  ca thal  heartdisease  \n",
      "0  0    6             0  \n",
      "1  3    3             2  \n",
      "2  2    7             1  \n",
      "3  0    3             0  \n",
      "4  0    3             0  \n"
     ]
    }
   ],
   "source": [
    "heartDisease=pd.read_csv('Lab 7_heart.csv')\n",
    "heartDisease=heartDisease.replace('?',np.nan)\n",
    "print(heartDisease.head())\n"
   ]
  },
  {
   "cell_type": "code",
   "execution_count": 9,
   "metadata": {},
   "outputs": [
    {
     "name": "stdout",
     "output_type": "stream",
     "text": [
      "age               int64\n",
      "sex               int64\n",
      "cp                int64\n",
      "trestbps          int64\n",
      "chol              int64\n",
      "fbs               int64\n",
      "restecg           int64\n",
      "thalach           int64\n",
      "exang             int64\n",
      "oldpeak         float64\n",
      "slope             int64\n",
      "ca               object\n",
      "thal             object\n",
      "heartdisease      int64\n",
      "dtype: object\n"
     ]
    }
   ],
   "source": [
    "print(heartDisease.dtypes)"
   ]
  },
  {
   "cell_type": "code",
   "execution_count": 34,
   "metadata": {},
   "outputs": [],
   "source": [
    "model = BayesianModel([('age','heartdisease'),('sex','heartdisease'),('cp','heartdisease'),\n",
    "                       ('exang','heartdisease'),('heartdisease','restecg'),('heartdisease','restecg')])"
   ]
  },
  {
   "cell_type": "code",
   "execution_count": 35,
   "metadata": {},
   "outputs": [],
   "source": [
    "model.fit(heartDisease,estimator=MaximumLikelihoodEstimator,)"
   ]
  },
  {
   "cell_type": "code",
   "execution_count": 36,
   "metadata": {},
   "outputs": [],
   "source": [
    "hearDisease_infer=VariableElimination(model)"
   ]
  },
  {
   "cell_type": "code",
   "execution_count": 37,
   "metadata": {},
   "outputs": [
    {
     "name": "stdout",
     "output_type": "stream",
     "text": [
      "1.prob when restecg=1\n"
     ]
    },
    {
     "name": "stderr",
     "output_type": "stream",
     "text": [
      "Finding Elimination Order: : 100%|█████████████████████████████████████████████████████| 4/4 [00:00<00:00, 2004.21it/s]\n",
      "Eliminating: sex: 100%|█████████████████████████████████████████████████████████████████| 4/4 [00:00<00:00, 108.45it/s]\n"
     ]
    },
    {
     "name": "stdout",
     "output_type": "stream",
     "text": [
      "+-----------------+---------------------+\n",
      "| heartdisease    |   phi(heartdisease) |\n",
      "+=================+=====================+\n",
      "| heartdisease(0) |              0.1012 |\n",
      "+-----------------+---------------------+\n",
      "| heartdisease(1) |              0.0000 |\n",
      "+-----------------+---------------------+\n",
      "| heartdisease(2) |              0.2392 |\n",
      "+-----------------+---------------------+\n",
      "| heartdisease(3) |              0.2015 |\n",
      "+-----------------+---------------------+\n",
      "| heartdisease(4) |              0.4581 |\n",
      "+-----------------+---------------------+\n"
     ]
    }
   ],
   "source": [
    "print(\"1.prob when restecg=1\")\n",
    "q1=hearDisease_infer.query(variables=['heartdisease'],evidence={'restecg':1})\n",
    "print(q1)"
   ]
  },
  {
   "cell_type": "code",
   "execution_count": 43,
   "metadata": {},
   "outputs": [
    {
     "name": "stdout",
     "output_type": "stream",
     "text": [
      "prob of heart disease given evidence=cp:2\n"
     ]
    },
    {
     "name": "stderr",
     "output_type": "stream",
     "text": [
      "Finding Elimination Order: : 100%|█████████████████████████████████████████████████████| 4/4 [00:00<00:00, 1987.35it/s]\n",
      "Eliminating: sex: 100%|█████████████████████████████████████████████████████████████████| 4/4 [00:00<00:00, 286.46it/s]\n"
     ]
    },
    {
     "name": "stdout",
     "output_type": "stream",
     "text": [
      "+-----------------+---------------------+\n",
      "| heartdisease    |   phi(heartdisease) |\n",
      "+=================+=====================+\n",
      "| heartdisease(0) |              0.3610 |\n",
      "+-----------------+---------------------+\n",
      "| heartdisease(1) |              0.2159 |\n",
      "+-----------------+---------------------+\n",
      "| heartdisease(2) |              0.1373 |\n",
      "+-----------------+---------------------+\n",
      "| heartdisease(3) |              0.1537 |\n",
      "+-----------------+---------------------+\n",
      "| heartdisease(4) |              0.1321 |\n",
      "+-----------------+---------------------+\n"
     ]
    }
   ],
   "source": [
    "print('prob of heart disease given evidence=cp:2')\n",
    "q2=hearDisease_infer.query(variables=['heartdisease'],evidence={'cp':2})\n",
    "print(q2)"
   ]
  },
  {
   "cell_type": "code",
   "execution_count": 40,
   "metadata": {},
   "outputs": [],
   "source": []
  },
  {
   "cell_type": "code",
   "execution_count": 41,
   "metadata": {},
   "outputs": [],
   "source": []
  },
  {
   "cell_type": "code",
   "execution_count": null,
   "metadata": {},
   "outputs": [],
   "source": []
  },
  {
   "cell_type": "code",
   "execution_count": null,
   "metadata": {},
   "outputs": [],
   "source": []
  }
 ],
 "metadata": {
  "kernelspec": {
   "display_name": "Python 3",
   "language": "python",
   "name": "python3"
  },
  "language_info": {
   "codemirror_mode": {
    "name": "ipython",
    "version": 3
   },
   "file_extension": ".py",
   "mimetype": "text/x-python",
   "name": "python",
   "nbconvert_exporter": "python",
   "pygments_lexer": "ipython3",
   "version": "3.7.1"
  }
 },
 "nbformat": 4,
 "nbformat_minor": 2
}
